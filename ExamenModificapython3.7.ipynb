{
  "nbformat": 4,
  "nbformat_minor": 0,
  "metadata": {
    "colab": {
      "name": "Examen.ipynb",
      "provenance": [],
      "collapsed_sections": [],
      "include_colab_link": true
    },
    "kernelspec": {
      "name": "python3",
      "display_name": "Python 3"
    },
    "language_info": {
      "name": "python"
    },
    "accelerator": "GPU"
  },
  "cells": [
    {
      "cell_type": "markdown",
      "metadata": {
        "id": "view-in-github",
        "colab_type": "text"
      },
      "source": [
        "<a href=\"https://colab.research.google.com/github/jenxime/Control/blob/master/ExamenModificapython3.7.ipynb\" target=\"_parent\"><img src=\"https://colab.research.google.com/assets/colab-badge.svg\" alt=\"Open In Colab\"/></a>"
      ]
    },
    {
      "cell_type": "markdown",
      "metadata": {
        "id": "nrlOykzuqqsc"
      },
      "source": [
        "#Clonar Repositorio"
      ]
    },
    {
      "cell_type": "code",
      "metadata": {
        "colab": {
          "base_uri": "https://localhost:8080/"
        },
        "id": "wZ5uzTkS-Xmi",
        "outputId": "35050401-3c96-4188-ab7f-e83bf7929248"
      },
      "source": [
        "!git clone https://github.com/jenxime/mi_detection.git"
      ],
      "execution_count": 1,
      "outputs": [
        {
          "output_type": "stream",
          "name": "stdout",
          "text": [
            "Cloning into 'mi_detection'...\n",
            "remote: Enumerating objects: 2098, done.\u001b[K\n",
            "remote: Counting objects: 100% (126/126), done.\u001b[K\n",
            "remote: Compressing objects: 100% (87/87), done.\u001b[K\n",
            "remote: Total 2098 (delta 84), reused 73 (delta 39), pack-reused 1972\u001b[K\n",
            "Receiving objects: 100% (2098/2098), 1.23 GiB | 25.54 MiB/s, done.\n",
            "Resolving deltas: 100% (629/629), done.\n",
            "Checking out files: 100% (1674/1674), done.\n"
          ]
        }
      ]
    },
    {
      "cell_type": "code",
      "metadata": {
        "id": "XaSyGhd0yLfJ",
        "colab": {
          "base_uri": "https://localhost:8080/"
        },
        "outputId": "54713967-4b3e-494d-867f-4da45b1757c3"
      },
      "source": [
        "!python --version"
      ],
      "execution_count": 2,
      "outputs": [
        {
          "output_type": "stream",
          "name": "stdout",
          "text": [
            "Python 3.7.12\n"
          ]
        }
      ]
    },
    {
      "cell_type": "code",
      "metadata": {
        "colab": {
          "base_uri": "https://localhost:8080/"
        },
        "id": "1FGR3nx3h18T",
        "outputId": "8a571822-fa3b-4ece-ccff-f04cb557ecce"
      },
      "source": [
        "!pip install NumPy 1.16.1 \n",
        "!pip install PyTorch 0.4.1\n",
        "!pip install Matplotlib\n",
        "!pip install wfdb"
      ],
      "execution_count": 4,
      "outputs": [
        {
          "output_type": "stream",
          "name": "stdout",
          "text": [
            "Requirement already satisfied: NumPy in /usr/local/lib/python3.7/dist-packages (1.19.5)\n",
            "\u001b[31mERROR: Could not find a version that satisfies the requirement 1.16.1 (from versions: none)\u001b[0m\n",
            "\u001b[31mERROR: No matching distribution found for 1.16.1\u001b[0m\n",
            "Collecting PyTorch\n",
            "  Using cached pytorch-1.0.2.tar.gz (689 bytes)\n",
            "\u001b[31mERROR: Could not find a version that satisfies the requirement 0.4.1 (from versions: none)\u001b[0m\n",
            "\u001b[31mERROR: No matching distribution found for 0.4.1\u001b[0m\n",
            "Requirement already satisfied: Matplotlib in /usr/local/lib/python3.7/dist-packages (3.4.3)\n",
            "Requirement already satisfied: numpy>=1.16 in /usr/local/lib/python3.7/dist-packages (from Matplotlib) (1.19.5)\n",
            "Requirement already satisfied: pyparsing>=2.2.1 in /usr/local/lib/python3.7/dist-packages (from Matplotlib) (2.4.7)\n",
            "Requirement already satisfied: pillow>=6.2.0 in /usr/local/lib/python3.7/dist-packages (from Matplotlib) (7.1.2)\n",
            "Requirement already satisfied: cycler>=0.10 in /usr/local/lib/python3.7/dist-packages (from Matplotlib) (0.10.0)\n",
            "Requirement already satisfied: kiwisolver>=1.0.1 in /usr/local/lib/python3.7/dist-packages (from Matplotlib) (1.3.2)\n",
            "Requirement already satisfied: python-dateutil>=2.7 in /usr/local/lib/python3.7/dist-packages (from Matplotlib) (2.8.2)\n",
            "Requirement already satisfied: six in /usr/local/lib/python3.7/dist-packages (from cycler>=0.10->Matplotlib) (1.15.0)\n",
            "Requirement already satisfied: wfdb in /usr/local/lib/python3.7/dist-packages (3.4.1)\n",
            "Requirement already satisfied: pandas>=0.17.0 in /usr/local/lib/python3.7/dist-packages (from wfdb) (1.1.5)\n",
            "Requirement already satisfied: scipy>=0.17.0 in /usr/local/lib/python3.7/dist-packages (from wfdb) (1.4.1)\n",
            "Requirement already satisfied: matplotlib>=3.3.4 in /usr/local/lib/python3.7/dist-packages (from wfdb) (3.4.3)\n",
            "Requirement already satisfied: numpy>=1.10.1 in /usr/local/lib/python3.7/dist-packages (from wfdb) (1.19.5)\n",
            "Requirement already satisfied: requests>=2.8.1 in /usr/local/lib/python3.7/dist-packages (from wfdb) (2.23.0)\n",
            "Requirement already satisfied: cycler>=0.10 in /usr/local/lib/python3.7/dist-packages (from matplotlib>=3.3.4->wfdb) (0.10.0)\n",
            "Requirement already satisfied: kiwisolver>=1.0.1 in /usr/local/lib/python3.7/dist-packages (from matplotlib>=3.3.4->wfdb) (1.3.2)\n",
            "Requirement already satisfied: pillow>=6.2.0 in /usr/local/lib/python3.7/dist-packages (from matplotlib>=3.3.4->wfdb) (7.1.2)\n",
            "Requirement already satisfied: pyparsing>=2.2.1 in /usr/local/lib/python3.7/dist-packages (from matplotlib>=3.3.4->wfdb) (2.4.7)\n",
            "Requirement already satisfied: python-dateutil>=2.7 in /usr/local/lib/python3.7/dist-packages (from matplotlib>=3.3.4->wfdb) (2.8.2)\n",
            "Requirement already satisfied: six in /usr/local/lib/python3.7/dist-packages (from cycler>=0.10->matplotlib>=3.3.4->wfdb) (1.15.0)\n",
            "Requirement already satisfied: pytz>=2017.2 in /usr/local/lib/python3.7/dist-packages (from pandas>=0.17.0->wfdb) (2018.9)\n",
            "Requirement already satisfied: chardet<4,>=3.0.2 in /usr/local/lib/python3.7/dist-packages (from requests>=2.8.1->wfdb) (3.0.4)\n",
            "Requirement already satisfied: urllib3!=1.25.0,!=1.25.1,<1.26,>=1.21.1 in /usr/local/lib/python3.7/dist-packages (from requests>=2.8.1->wfdb) (1.24.3)\n",
            "Requirement already satisfied: certifi>=2017.4.17 in /usr/local/lib/python3.7/dist-packages (from requests>=2.8.1->wfdb) (2021.5.30)\n",
            "Requirement already satisfied: idna<3,>=2.5 in /usr/local/lib/python3.7/dist-packages (from requests>=2.8.1->wfdb) (2.10)\n"
          ]
        }
      ]
    },
    {
      "cell_type": "markdown",
      "metadata": {
        "id": "O7rD9udrDIHa"
      },
      "source": [
        "#CNQ_model.py Empieza\n"
      ]
    },
    {
      "cell_type": "code",
      "metadata": {
        "colab": {
          "base_uri": "https://localhost:8080/"
        },
        "id": "Ysqs-YlcBhO6",
        "outputId": "02da1971-f096-448c-c519-11b52b21e9b1"
      },
      "source": [
        "!python /content/mi_detection/CNQ_model.py 1 2"
      ],
      "execution_count": null,
      "outputs": [
        {
          "output_type": "stream",
          "name": "stdout",
          "text": [
            "37 1 2\n",
            "Traceback (most recent call last):\n",
            "  File \"/content/mi_detection/CNQ_model.py\", line 46, in <module>\n",
            "    data = [data_v4.flatten(), data_v5.flatten()]\n",
            "AttributeError: 'NoneType' object has no attribute 'flatten'\n"
          ]
        }
      ]
    },
    {
      "cell_type": "code",
      "metadata": {
        "colab": {
          "base_uri": "https://localhost:8080/"
        },
        "id": "EkPnivGf3mRs",
        "outputId": "8ebfde7e-2779-478f-d265-945220d3d420"
      },
      "source": [
        "!python /content/mi_detection/CNQ_model_split_by_patient.py 123 12 1 2"
      ],
      "execution_count": null,
      "outputs": [
        {
          "output_type": "stream",
          "name": "stdout",
          "text": [
            "123 12 1 2\n",
            "Traceback (most recent call last):\n",
            "  File \"/content/mi_detection/CNQ_model_split_by_patient.py\", line 149, in <module>\n",
            "    data = [data_v4.flatten(), data_v5.flatten()]\n",
            "AttributeError: 'NoneType' object has no attribute 'flatten'\n"
          ]
        }
      ]
    },
    {
      "cell_type": "code",
      "metadata": {
        "colab": {
          "base_uri": "https://localhost:8080/"
        },
        "id": "nsuipJP17EQn",
        "outputId": "9f44adf1-c100-4136-af39-ee90e647acbe"
      },
      "source": [
        "!python /content/mi_detection/CNQ_model_split_by_patient_3_channel.py 1 23 4"
      ],
      "execution_count": null,
      "outputs": [
        {
          "output_type": "stream",
          "name": "stdout",
          "text": [
            "1 23 v6 vz ii\n",
            "/usr/local/lib/python3.7/dist-packages/numpy/core/_asarray.py:83: VisibleDeprecationWarning: Creating an ndarray from ragged nested sequences (which is a list-or-tuple of lists-or-tuples-or ndarrays with different lengths or shapes) is deprecated. If you meant to do this, you must specify 'dtype=object' when creating the ndarray\n",
            "  return array(a, dtype, copy=False, order=order)\n",
            "Traceback (most recent call last):\n",
            "  File \"/content/mi_detection/CNQ_model_split_by_patient_3_channel.py\", line 327, in <module>\n",
            "    batch_x, batch_y = get_batch(batch_size, split='train')\n",
            "  File \"/content/mi_detection/CNQ_model_split_by_patient_3_channel.py\", line 201, in get_batch\n",
            "    unhealthy_indices = random.sample(np.arange(len(data_unhealthy_train)), k=int(batch_size / 2))\n",
            "  File \"/usr/lib/python3.7/random.py\", line 317, in sample\n",
            "    raise TypeError(\"Population must be a sequence or set.  For dicts, use list(d).\")\n",
            "TypeError: Population must be a sequence or set.  For dicts, use list(d).\n"
          ]
        }
      ]
    },
    {
      "cell_type": "code",
      "metadata": {
        "colab": {
          "base_uri": "https://localhost:8080/"
        },
        "id": "7d7A1d9e7EcK",
        "outputId": "77b137e2-21df-460a-9fc4-71398a0712f1"
      },
      "source": [
        "!/content/mi_detection/mi_detection.swb"
      ],
      "execution_count": null,
      "outputs": [
        {
          "output_type": "stream",
          "name": "stdout",
          "text": [
            "/bin/bash: /content/mi_detection/mi_detection.swb: Permission denied\n"
          ]
        }
      ]
    },
    {
      "cell_type": "code",
      "metadata": {
        "colab": {
          "base_uri": "https://localhost:8080/"
        },
        "id": "jRr2S2HW3b2n",
        "outputId": "b0e1fc04-891c-44dd-f223-f87fe7e1d75e"
      },
      "source": [
        "!/content/mi_detection/train.sh"
      ],
      "execution_count": null,
      "outputs": [
        {
          "output_type": "stream",
          "name": "stdout",
          "text": [
            "30 1 i vz\n",
            "/usr/local/lib/python3.7/dist-packages/numpy/core/_asarray.py:83: VisibleDeprecationWarning: Creating an ndarray from ragged nested sequences (which is a list-or-tuple of lists-or-tuples-or ndarrays with different lengths or shapes) is deprecated. If you meant to do this, you must specify 'dtype=object' when creating the ndarray\n",
            "  return array(a, dtype, copy=False, order=order)\n",
            "Traceback (most recent call last):\n",
            "  File \"/content/mi_detection/CNQ_model_split_by_patient.py\", line 316, in <module>\n",
            "    batch_x, batch_y = get_batch(batch_size, split='train')\n",
            "  File \"/content/mi_detection/CNQ_model_split_by_patient.py\", line 193, in get_batch\n",
            "    unhealthy_indices = random.sample(np.arange(len(data_unhealthy_train)), k=int(batch_size / 2))\n",
            "  File \"/usr/lib/python3.7/random.py\", line 317, in sample\n",
            "    raise TypeError(\"Population must be a sequence or set.  For dicts, use list(d).\")\n",
            "TypeError: Population must be a sequence or set.  For dicts, use list(d).\n",
            "30 1 ii v1\n",
            "/usr/local/lib/python3.7/dist-packages/numpy/core/_asarray.py:83: VisibleDeprecationWarning: Creating an ndarray from ragged nested sequences (which is a list-or-tuple of lists-or-tuples-or ndarrays with different lengths or shapes) is deprecated. If you meant to do this, you must specify 'dtype=object' when creating the ndarray\n",
            "  return array(a, dtype, copy=False, order=order)\n",
            "Traceback (most recent call last):\n",
            "  File \"/content/mi_detection/CNQ_model_split_by_patient.py\", line 316, in <module>\n",
            "    batch_x, batch_y = get_batch(batch_size, split='train')\n",
            "  File \"/content/mi_detection/CNQ_model_split_by_patient.py\", line 193, in get_batch\n",
            "    unhealthy_indices = random.sample(np.arange(len(data_unhealthy_train)), k=int(batch_size / 2))\n",
            "  File \"/usr/lib/python3.7/random.py\", line 317, in sample\n",
            "    raise TypeError(\"Population must be a sequence or set.  For dicts, use list(d).\")\n",
            "TypeError: Population must be a sequence or set.  For dicts, use list(d).\n",
            "30 1 ii vz\n",
            "/usr/local/lib/python3.7/dist-packages/numpy/core/_asarray.py:83: VisibleDeprecationWarning: Creating an ndarray from ragged nested sequences (which is a list-or-tuple of lists-or-tuples-or ndarrays with different lengths or shapes) is deprecated. If you meant to do this, you must specify 'dtype=object' when creating the ndarray\n",
            "  return array(a, dtype, copy=False, order=order)\n",
            "Traceback (most recent call last):\n",
            "  File \"/content/mi_detection/CNQ_model_split_by_patient.py\", line 316, in <module>\n",
            "    batch_x, batch_y = get_batch(batch_size, split='train')\n",
            "  File \"/content/mi_detection/CNQ_model_split_by_patient.py\", line 193, in get_batch\n",
            "    unhealthy_indices = random.sample(np.arange(len(data_unhealthy_train)), k=int(batch_size / 2))\n",
            "  File \"/usr/lib/python3.7/random.py\", line 317, in sample\n",
            "    raise TypeError(\"Population must be a sequence or set.  For dicts, use list(d).\")\n",
            "TypeError: Population must be a sequence or set.  For dicts, use list(d).\n",
            "30 1 avr v6\n",
            "/usr/local/lib/python3.7/dist-packages/numpy/core/_asarray.py:83: VisibleDeprecationWarning: Creating an ndarray from ragged nested sequences (which is a list-or-tuple of lists-or-tuples-or ndarrays with different lengths or shapes) is deprecated. If you meant to do this, you must specify 'dtype=object' when creating the ndarray\n",
            "  return array(a, dtype, copy=False, order=order)\n",
            "Traceback (most recent call last):\n",
            "  File \"/content/mi_detection/CNQ_model_split_by_patient.py\", line 316, in <module>\n",
            "    batch_x, batch_y = get_batch(batch_size, split='train')\n",
            "  File \"/content/mi_detection/CNQ_model_split_by_patient.py\", line 193, in get_batch\n",
            "    unhealthy_indices = random.sample(np.arange(len(data_unhealthy_train)), k=int(batch_size / 2))\n",
            "  File \"/usr/lib/python3.7/random.py\", line 317, in sample\n",
            "    raise TypeError(\"Population must be a sequence or set.  For dicts, use list(d).\")\n",
            "TypeError: Population must be a sequence or set.  For dicts, use list(d).\n",
            "30 1 avf vz\n",
            "/usr/local/lib/python3.7/dist-packages/numpy/core/_asarray.py:83: VisibleDeprecationWarning: Creating an ndarray from ragged nested sequences (which is a list-or-tuple of lists-or-tuples-or ndarrays with different lengths or shapes) is deprecated. If you meant to do this, you must specify 'dtype=object' when creating the ndarray\n",
            "  return array(a, dtype, copy=False, order=order)\n",
            "Traceback (most recent call last):\n",
            "  File \"/usr/local/lib/python3.7/dist-packages/tensorboard/compat/__init__.py\", line 42, in tf\n",
            "    from tensorboard.compat import notf  # noqa: F401\n",
            "ImportError: cannot import name 'notf' from 'tensorboard.compat' (/usr/local/lib/python3.7/dist-packages/tensorboard/compat/__init__.py)\n",
            "\n",
            "During handling of the above exception, another exception occurred:\n",
            "\n",
            "Traceback (most recent call last):\n",
            "  File \"/content/mi_detection/CNQ_model_split_by_patient.py\", line 305, in <module>\n",
            "    writer = SummaryWriter('/home/arjun/mi_detection/runs/runs_' + str(seed_num) + '_' + str(run_num) + '_' + str(channel_1) + '_' + str(channel_2))\n",
            "  File \"/usr/local/lib/python3.7/dist-packages/torch/utils/tensorboard/writer.py\", line 220, in __init__\n",
            "    self._get_file_writer()\n",
            "  File \"/usr/local/lib/python3.7/dist-packages/torch/utils/tensorboard/writer.py\", line 251, in _get_file_writer\n",
            "    self.flush_secs, self.filename_suffix)\n",
            "  File \"/usr/local/lib/python3.7/dist-packages/torch/utils/tensorboard/writer.py\", line 61, in __init__\n",
            "    log_dir, max_queue, flush_secs, filename_suffix)\n",
            "  File \"/usr/local/lib/python3.7/dist-packages/tensorboard/summary/writer/event_file_writer.py\", line 72, in __init__\n",
            "    tf.io.gfile.makedirs(logdir)\n",
            "  File \"/usr/local/lib/python3.7/dist-packages/tensorboard/lazy.py\", line 65, in __getattr__\n",
            "    return getattr(load_once(self), attr_name)\n",
            "  File \"/usr/local/lib/python3.7/dist-packages/tensorboard/lazy.py\", line 97, in wrapper\n",
            "    cache[arg] = f(arg)\n",
            "  File \"/usr/local/lib/python3.7/dist-packages/tensorboard/lazy.py\", line 50, in load_once\n",
            "    module = load_fn()\n",
            "  File \"/usr/local/lib/python3.7/dist-packages/tensorboard/compat/__init__.py\", line 45, in tf\n",
            "    import tensorflow\n",
            "  File \"/usr/local/lib/python3.7/dist-packages/tensorflow/__init__.py\", line 41, in <module>\n",
            "    from tensorflow.python.tools import module_util as _module_util\n",
            "  File \"/usr/local/lib/python3.7/dist-packages/tensorflow/python/__init__.py\", line 49, in <module>\n",
            "    from tensorflow.python.feature_column import feature_column_lib as feature_column\n",
            "  File \"/usr/local/lib/python3.7/dist-packages/tensorflow/python/feature_column/feature_column_lib.py\", line 22, in <module>\n",
            "    from tensorflow.python.feature_column.feature_column import *\n",
            "  File \"/usr/local/lib/python3.7/dist-packages/tensorflow/python/feature_column/feature_column.py\", line 147, in <module>\n",
            "    from tensorflow.python.layers import base\n",
            "  File \"/usr/local/lib/python3.7/dist-packages/tensorflow/python/layers/base.py\", line 20, in <module>\n",
            "    from tensorflow.python.keras.legacy_tf_layers import base\n",
            "  File \"/usr/local/lib/python3.7/dist-packages/tensorflow/python/keras/__init__.py\", line 25, in <module>\n",
            "    from tensorflow.python.keras import models\n",
            "  File \"/usr/local/lib/python3.7/dist-packages/tensorflow/python/keras/models.py\", line 20, in <module>\n",
            "    from tensorflow.python.keras import metrics as metrics_module\n",
            "  File \"/usr/local/lib/python3.7/dist-packages/tensorflow/python/keras/metrics.py\", line 34, in <module>\n",
            "    from tensorflow.python.keras import activations\n",
            "  File \"/usr/local/lib/python3.7/dist-packages/tensorflow/python/keras/activations.py\", line 18, in <module>\n",
            "    from tensorflow.python.keras.layers import advanced_activations\n",
            "  File \"/usr/local/lib/python3.7/dist-packages/tensorflow/python/keras/layers/__init__.py\", line 22, in <module>\n",
            "    from tensorflow.python.keras.engine.input_layer import Input\n",
            "  File \"/usr/local/lib/python3.7/dist-packages/tensorflow/python/keras/engine/input_layer.py\", line 24, in <module>\n",
            "    from tensorflow.python.keras.engine import base_layer\n",
            "  File \"/usr/local/lib/python3.7/dist-packages/tensorflow/python/keras/engine/base_layer.py\", line 49, in <module>\n",
            "    from tensorflow.python.keras.engine import base_layer_utils\n",
            "  File \"/usr/local/lib/python3.7/dist-packages/tensorflow/python/keras/engine/base_layer_utils.py\", line 31, in <module>\n",
            "    from tensorflow.python.keras.utils import tf_utils\n",
            "  File \"/usr/local/lib/python3.7/dist-packages/tensorflow/python/keras/utils/tf_utils.py\", line 22, in <module>\n",
            "    from tensorflow.python.distribute.coordinator import cluster_coordinator as coordinator_lib\n",
            "  File \"/usr/local/lib/python3.7/dist-packages/tensorflow/python/distribute/coordinator/cluster_coordinator.py\", line 34, in <module>\n",
            "    from tensorflow.python.distribute import parameter_server_strategy_v2\n",
            "  File \"/usr/local/lib/python3.7/dist-packages/tensorflow/python/distribute/parameter_server_strategy_v2.py\", line 33, in <module>\n",
            "    from tensorflow.python.distribute import parameter_server_strategy\n",
            "  File \"/usr/local/lib/python3.7/dist-packages/tensorflow/python/distribute/parameter_server_strategy.py\", line 34, in <module>\n",
            "    from tensorflow.python.distribute.cluster_resolver import SimpleClusterResolver\n",
            "  File \"/usr/local/lib/python3.7/dist-packages/tensorflow/python/distribute/cluster_resolver/__init__.py\", line 31, in <module>\n",
            "    from tensorflow.python.distribute.cluster_resolver.gce_cluster_resolver import GCEClusterResolver\n",
            "  File \"/usr/local/lib/python3.7/dist-packages/tensorflow/python/distribute/cluster_resolver/gce_cluster_resolver.py\", line 28, in <module>\n",
            "    from googleapiclient import discovery  # pylint: disable=g-import-not-at-top\n",
            "  File \"/usr/local/lib/python3.7/dist-packages/googleapiclient/discovery.py\", line 60, in <module>\n",
            "    from googleapiclient import _auth\n",
            "  File \"/usr/local/lib/python3.7/dist-packages/googleapiclient/_auth.py\", line 34, in <module>\n",
            "    import oauth2client.client\n",
            "  File \"/usr/local/lib/python3.7/dist-packages/oauth2client/client.py\", line 45, in <module>\n",
            "    from oauth2client import crypt\n",
            "  File \"/usr/local/lib/python3.7/dist-packages/oauth2client/crypt.py\", line 23, in <module>\n",
            "    from oauth2client import _pure_python_crypt\n",
            "  File \"/usr/local/lib/python3.7/dist-packages/oauth2client/_pure_python_crypt.py\", line 25, in <module>\n",
            "    from pyasn1_modules.rfc5208 import PrivateKeyInfo\n",
            "  File \"/usr/local/lib/python3.7/dist-packages/pyasn1_modules/rfc5208.py\", line 30, in <module>\n",
            "    class EncryptedPrivateKeyInfo(univ.Sequence):\n",
            "KeyboardInterrupt\n",
            "30 1 v1 v6\n",
            "/usr/local/lib/python3.7/dist-packages/numpy/core/_asarray.py:83: VisibleDeprecationWarning: Creating an ndarray from ragged nested sequences (which is a list-or-tuple of lists-or-tuples-or ndarrays with different lengths or shapes) is deprecated. If you meant to do this, you must specify 'dtype=object' when creating the ndarray\n",
            "  return array(a, dtype, copy=False, order=order)\n",
            "Traceback (most recent call last):\n",
            "  File \"/content/mi_detection/CNQ_model_split_by_patient.py\", line 316, in <module>\n",
            "    batch_x, batch_y = get_batch(batch_size, split='train')\n",
            "  File \"/content/mi_detection/CNQ_model_split_by_patient.py\", line 193, in get_batch\n",
            "    unhealthy_indices = random.sample(np.arange(len(data_unhealthy_train)), k=int(batch_size / 2))\n",
            "  File \"/usr/lib/python3.7/random.py\", line 317, in sample\n",
            "    raise TypeError(\"Population must be a sequence or set.  For dicts, use list(d).\")\n",
            "TypeError: Population must be a sequence or set.  For dicts, use list(d).\n",
            "30 1 v3 vz\n",
            "Traceback (most recent call last):\n",
            "  File \"/content/mi_detection/CNQ_model_split_by_patient.py\", line 160, in <module>\n",
            "    data_v5, _ = wfdb.rdsamp(\"/content/mi_detection/ptbdb_data/\" + file[:-1], channel_names=[str(channel_2)])\n",
            "  File \"/usr/local/lib/python3.7/dist-packages/wfdb/io/record.py\", line 3732, in rdsamp\n",
            "    channel_names=channel_names, warn_empty=warn_empty)\n",
            "  File \"/usr/local/lib/python3.7/dist-packages/wfdb/io/record.py\", line 3541, in rdrecord\n",
            "    return_res=return_res)\n",
            "  File \"/usr/local/lib/python3.7/dist-packages/wfdb/io/_signal.py\", line 1010, in _rd_segment\n",
            "    sampfrom, sampto, smooth_frames)[:, r_w_channel[fn]]\n",
            "KeyboardInterrupt\n",
            "^C\n"
          ]
        }
      ]
    },
    {
      "cell_type": "code",
      "metadata": {
        "id": "qW6eT_Pz9ZE7",
        "colab": {
          "base_uri": "https://localhost:8080/"
        },
        "outputId": "3d3f768a-fc41-4e72-e3a0-c525524107ba"
      },
      "source": [
        "!/content/mi_detection/train_3_channel.sh"
      ],
      "execution_count": null,
      "outputs": [
        {
          "output_type": "stream",
          "name": "stdout",
          "text": [
            "13 1 v6 vz ii\n",
            "/usr/local/lib/python3.7/dist-packages/numpy/core/_asarray.py:83: VisibleDeprecationWarning: Creating an ndarray from ragged nested sequences (which is a list-or-tuple of lists-or-tuples-or ndarrays with different lengths or shapes) is deprecated. If you meant to do this, you must specify 'dtype=object' when creating the ndarray\n",
            "  return array(a, dtype, copy=False, order=order)\n",
            "Traceback (most recent call last):\n",
            "  File \"/content/mi_detection/CNQ_model_split_by_patient_3_channel.py\", line 327, in <module>\n",
            "    batch_x, batch_y = get_batch(batch_size, split='train')\n",
            "  File \"/content/mi_detection/CNQ_model_split_by_patient_3_channel.py\", line 201, in get_batch\n",
            "    unhealthy_indices = random.sample(np.arange(len(data_unhealthy_train)), k=int(batch_size / 2))\n",
            "  File \"/usr/lib/python3.7/random.py\", line 317, in sample\n",
            "    raise TypeError(\"Population must be a sequence or set.  For dicts, use list(d).\")\n",
            "TypeError: Population must be a sequence or set.  For dicts, use list(d).\n",
            "13 2 v6 vz ii\n",
            "Traceback (most recent call last):\n",
            "  File \"/content/mi_detection/CNQ_model_split_by_patient_3_channel.py\", line 167, in <module>\n",
            "    data_v6, _ = wfdb.rdsamp(\"/content/mi_detection/ptbdb_data/\" + file[:-1], channel_names=[str(channel_3)])\n",
            "  File \"/usr/local/lib/python3.7/dist-packages/wfdb/io/record.py\", line 3732, in rdsamp\n",
            "    channel_names=channel_names, warn_empty=warn_empty)\n",
            "  File \"/usr/local/lib/python3.7/dist-packages/wfdb/io/record.py\", line 3433, in rdrecord\n",
            "    record = rdheader(record_name, pn_dir=pn_dir, rd_segments=False)\n",
            "  File \"/usr/local/lib/python3.7/dist-packages/wfdb/io/record.py\", line 3273, in rdheader\n",
            "    signal_fields = _header._parse_signal_lines(header_lines[1:])\n",
            "  File \"/usr/local/lib/python3.7/dist-packages/wfdb/io/_header.py\", line 989, in _parse_signal_lines\n",
            "    if SIGNAL_SPECS.loc[field, 'allowed_types'] is int_types:\n",
            "  File \"/usr/local/lib/python3.7/dist-packages/pandas/core/indexing.py\", line 869, in __getitem__\n",
            "    return self.obj._get_value(*key, takeable=self._takeable)\n",
            "  File \"/usr/local/lib/python3.7/dist-packages/pandas/core/frame.py\", line 3015, in _get_value\n",
            "    return series._values[loc]\n",
            "  File \"/usr/local/lib/python3.7/dist-packages/pandas/core/series.py\", line 572, in _values\n",
            "    return self._mgr.internal_values()\n",
            "  File \"/usr/local/lib/python3.7/dist-packages/pandas/core/internals/managers.py\", line 1624, in internal_values\n",
            "    return self._block.internal_values()\n",
            "  File \"/usr/local/lib/python3.7/dist-packages/pandas/core/internals/managers.py\", line 1584, in _block\n",
            "    @property\n",
            "KeyboardInterrupt\n",
            "13 3 v6 vz ii\n",
            "Traceback (most recent call last):\n",
            "  File \"/content/mi_detection/CNQ_model_split_by_patient_3_channel.py\", line 167, in <module>\n",
            "    data_v6, _ = wfdb.rdsamp(\"/content/mi_detection/ptbdb_data/\" + file[:-1], channel_names=[str(channel_3)])\n",
            "  File \"/usr/local/lib/python3.7/dist-packages/wfdb/io/record.py\", line 3732, in rdsamp\n",
            "    channel_names=channel_names, warn_empty=warn_empty)\n",
            "  File \"/usr/local/lib/python3.7/dist-packages/wfdb/io/record.py\", line 3550, in rdrecord\n",
            "    record.dac(expanded=False, return_res=return_res, inplace=True)\n",
            "  File \"/usr/local/lib/python3.7/dist-packages/wfdb/io/_signal.py\", line 533, in dac\n",
            "    np.divide(self.d_signal, self.adc_gain, self.d_signal)\n",
            "KeyboardInterrupt\n",
            "^C\n"
          ]
        }
      ]
    },
    {
      "cell_type": "code",
      "metadata": {
        "id": "RctdMEDW9ZNZ",
        "colab": {
          "base_uri": "https://localhost:8080/"
        },
        "outputId": "4f968b8e-cf44-4f73-d7f1-f7fce155def2"
      },
      "source": [
        "!/content/mi_detection/train_50_seeds.sh"
      ],
      "execution_count": null,
      "outputs": [
        {
          "output_type": "stream",
          "name": "stdout",
          "text": [
            "python3: can't open file 'CNQ_model_split_by_patient.py': [Errno 2] No such file or directory\n",
            "python3: can't open file 'CNQ_model_split_by_patient.py': [Errno 2] No such file or directory\n",
            "python3: can't open file 'CNQ_model_split_by_patient.py': [Errno 2] No such file or directory\n",
            "python3: can't open file 'CNQ_model_split_by_patient.py': [Errno 2] No such file or directory\n",
            "python3: can't open file 'CNQ_model_split_by_patient.py': [Errno 2] No such file or directory\n",
            "python3: can't open file 'CNQ_model_split_by_patient.py': [Errno 2] No such file or directory\n",
            "python3: can't open file 'CNQ_model_split_by_patient.py': [Errno 2] No such file or directory\n",
            "python3: can't open file 'CNQ_model_split_by_patient.py': [Errno 2] No such file or directory\n",
            "python3: can't open file 'CNQ_model_split_by_patient.py': [Errno 2] No such file or directory\n",
            "python3: can't open file 'CNQ_model_split_by_patient.py': [Errno 2] No such file or directory\n",
            "python3: can't open file 'CNQ_model_split_by_patient.py': [Errno 2] No such file or directory\n",
            "python3: can't open file 'CNQ_model_split_by_patient.py': [Errno 2] No such file or directory\n",
            "python3: can't open file 'CNQ_model_split_by_patient.py': [Errno 2] No such file or directory\n",
            "python3: can't open file 'CNQ_model_split_by_patient.py': [Errno 2] No such file or directory\n",
            "python3: can't open file 'CNQ_model_split_by_patient.py': [Errno 2] No such file or directory\n",
            "python3: can't open file 'CNQ_model_split_by_patient.py': [Errno 2] No such file or directory\n",
            "python3: can't open file 'CNQ_model_split_by_patient.py': [Errno 2] No such file or directory\n",
            "python3: can't open file 'CNQ_model_split_by_patient.py': [Errno 2] No such file or directory\n",
            "python3: can't open file 'CNQ_model_split_by_patient.py': [Errno 2] No such file or directory\n",
            "python3: can't open file 'CNQ_model_split_by_patient.py': [Errno 2] No such file or directory\n",
            "python3: can't open file 'CNQ_model_split_by_patient.py': [Errno 2] No such file or directory\n",
            "python3: can't open file 'CNQ_model_split_by_patient.py': [Errno 2] No such file or directory\n",
            "python3: can't open file 'CNQ_model_split_by_patient.py': [Errno 2] No such file or directory\n",
            "python3: can't open file 'CNQ_model_split_by_patient.py': [Errno 2] No such file or directory\n",
            "python3: can't open file 'CNQ_model_split_by_patient.py': [Errno 2] No such file or directory\n",
            "python3: can't open file 'CNQ_model_split_by_patient.py': [Errno 2] No such file or directory\n",
            "python3: can't open file 'CNQ_model_split_by_patient.py': [Errno 2] No such file or directory\n",
            "python3: can't open file 'CNQ_model_split_by_patient.py': [Errno 2] No such file or directory\n",
            "python3: can't open file 'CNQ_model_split_by_patient.py': [Errno 2] No such file or directory\n",
            "python3: can't open file 'CNQ_model_split_by_patient.py': [Errno 2] No such file or directory\n",
            "python3: can't open file 'CNQ_model_split_by_patient.py': [Errno 2] No such file or directory\n",
            "python3: can't open file 'CNQ_model_split_by_patient.py': [Errno 2] No such file or directory\n",
            "python3: can't open file 'CNQ_model_split_by_patient.py': [Errno 2] No such file or directory\n",
            "python3: can't open file 'CNQ_model_split_by_patient.py': [Errno 2] No such file or directory\n",
            "python3: can't open file 'CNQ_model_split_by_patient.py': [Errno 2] No such file or directory\n",
            "python3: can't open file 'CNQ_model_split_by_patient.py': [Errno 2] No such file or directory\n",
            "python3: can't open file 'CNQ_model_split_by_patient.py': [Errno 2] No such file or directory\n",
            "python3: can't open file 'CNQ_model_split_by_patient.py': [Errno 2] No such file or directory\n",
            "python3: can't open file 'CNQ_model_split_by_patient.py': [Errno 2] No such file or directory\n",
            "python3: can't open file 'CNQ_model_split_by_patient.py': [Errno 2] No such file or directory\n",
            "python3: can't open file 'CNQ_model_split_by_patient.py': [Errno 2] No such file or directory\n",
            "python3: can't open file 'CNQ_model_split_by_patient.py': [Errno 2] No such file or directory\n",
            "python3: can't open file 'CNQ_model_split_by_patient.py': [Errno 2] No such file or directory\n",
            "python3: can't open file 'CNQ_model_split_by_patient.py': [Errno 2] No such file or directory\n",
            "python3: can't open file 'CNQ_model_split_by_patient.py': [Errno 2] No such file or directory\n",
            "python3: can't open file 'CNQ_model_split_by_patient.py': [Errno 2] No such file or directory\n",
            "Fatal Python error: initsite: Failed to import the site module\n",
            "Traceback (most recent call last):\n",
            "  File \"/usr/lib/python3.7/site.py\", line 596, in <module>\n",
            "    main()\n",
            "  File \"/usr/lib/python3.7/site.py\", line 583, in main\n",
            "    known_paths = addsitepackages(known_paths)\n",
            "  File \"/usr/lib/python3.7/site.py\", line 366, in addsitepackages\n",
            "    addsitedir(sitedir, known_paths)\n",
            "  File \"/usr/lib/python3.7/site.py\", line 213, in addsitedir\n",
            "    addpackage(sitedir, name, known_paths)\n",
            "  File \"/usr/lib/python3.7/site.py\", line 174, in addpackage\n",
            "    exec(line)\n",
            "  File \"<string>\", line 1, in <module>\n",
            "KeyboardInterrupt\n",
            "python3: can't open file 'CNQ_model_split_by_patient.py': [Errno 2] No such file or directory\n",
            "python3: can't open file 'CNQ_model_split_by_patient.py': [Errno 2] No such file or directory\n",
            "python3: can't open file 'CNQ_model_split_by_patient.py': [Errno 2] No such file or directory\n"
          ]
        }
      ]
    },
    {
      "cell_type": "code",
      "metadata": {
        "id": "Xz9imNsF9ZRK",
        "colab": {
          "base_uri": "https://localhost:8080/"
        },
        "outputId": "98a06d5c-f923-4ffb-c0bd-5996fbcab27b"
      },
      "source": [
        "!/content/mi_detection/train_best_seed.sh"
      ],
      "execution_count": null,
      "outputs": [
        {
          "output_type": "stream",
          "name": "stdout",
          "text": [
            "python3: can't open file 'CNQ_model_split_by_patient.py': [Errno 2] No such file or directory\n",
            "python3: can't open file 'CNQ_model_split_by_patient.py': [Errno 2] No such file or directory\n",
            "python3: can't open file 'CNQ_model_split_by_patient.py': [Errno 2] No such file or directory\n",
            "python3: can't open file 'CNQ_model_split_by_patient.py': [Errno 2] No such file or directory\n",
            "python3: can't open file 'CNQ_model_split_by_patient.py': [Errno 2] No such file or directory\n",
            "python3: can't open file 'CNQ_model_split_by_patient.py': [Errno 2] No such file or directory\n",
            "python3: can't open file 'CNQ_model_split_by_patient.py': [Errno 2] No such file or directory\n",
            "python3: can't open file 'CNQ_model_split_by_patient.py': [Errno 2] No such file or directory\n",
            "python3: can't open file 'CNQ_model_split_by_patient.py': [Errno 2] No such file or directory\n",
            "python3: can't open file 'CNQ_model_split_by_patient.py': [Errno 2] No such file or directory\n",
            "python3: can't open file 'CNQ_model_split_by_patient.py': [Errno 2] No such file or directory\n",
            "python3: can't open file 'CNQ_model_split_by_patient.py': [Errno 2] No such file or directory\n",
            "python3: can't open file 'CNQ_model_split_by_patient.py': [Errno 2] No such file or directory\n",
            "python3: can't open file 'CNQ_model_split_by_patient.py': [Errno 2] No such file or directory\n",
            "python3: can't open file 'CNQ_model_split_by_patient.py': [Errno 2] No such file or directory\n",
            "python3: can't open file 'CNQ_model_split_by_patient.py': [Errno 2] No such file or directory\n",
            "python3: can't open file 'CNQ_model_split_by_patient.py': [Errno 2] No such file or directory\n",
            "python3: can't open file 'CNQ_model_split_by_patient.py': [Errno 2] No such file or directory\n",
            "python3: can't open file 'CNQ_model_split_by_patient.py': [Errno 2] No such file or directory\n",
            "python3: can't open file 'CNQ_model_split_by_patient.py': [Errno 2] No such file or directory\n",
            "python3: can't open file 'CNQ_model_split_by_patient.py': [Errno 2] No such file or directory\n",
            "python3: can't open file 'CNQ_model_split_by_patient.py': [Errno 2] No such file or directory\n",
            "python3: can't open file 'CNQ_model_split_by_patient.py': [Errno 2] No such file or directory\n",
            "python3: can't open file 'CNQ_model_split_by_patient.py': [Errno 2] No such file or directory\n",
            "python3: can't open file 'CNQ_model_split_by_patient.py': [Errno 2] No such file or directory\n",
            "python3: can't open file 'CNQ_model_split_by_patient.py': [Errno 2] No such file or directory\n",
            "python3: can't open file 'CNQ_model_split_by_patient.py': [Errno 2] No such file or directory\n",
            "python3: can't open file 'CNQ_model_split_by_patient.py': [Errno 2] No such file or directory\n",
            "python3: can't open file 'CNQ_model_split_by_patient.py': [Errno 2] No such file or directory\n",
            "python3: can't open file 'CNQ_model_split_by_patient.py': [Errno 2] No such file or directory\n",
            "python3: can't open file 'CNQ_model_split_by_patient.py': [Errno 2] No such file or directory\n",
            "python3: can't open file 'CNQ_model_split_by_patient.py': [Errno 2] No such file or directory\n",
            "python3: can't open file 'CNQ_model_split_by_patient.py': [Errno 2] No such file or directory\n",
            "python3: can't open file 'CNQ_model_split_by_patient.py': [Errno 2] No such file or directory\n",
            "python3: can't open file 'CNQ_model_split_by_patient.py': [Errno 2] No such file or directory\n",
            "python3: can't open file 'CNQ_model_split_by_patient.py': [Errno 2] No such file or directory\n",
            "python3: can't open file 'CNQ_model_split_by_patient.py': [Errno 2] No such file or directory\n",
            "python3: can't open file 'CNQ_model_split_by_patient.py': [Errno 2] No such file or directory\n",
            "python3: can't open file 'CNQ_model_split_by_patient.py': [Errno 2] No such file or directory\n",
            "python3: can't open file 'CNQ_model_split_by_patient.py': [Errno 2] No such file or directory\n",
            "python3: can't open file 'CNQ_model_split_by_patient.py': [Errno 2] No such file or directory\n",
            "python3: can't open file 'CNQ_model_split_by_patient.py': [Errno 2] No such file or directory\n",
            "python3: can't open file 'CNQ_model_split_by_patient.py': [Errno 2] No such file or directory\n",
            "python3: can't open file 'CNQ_model_split_by_patient.py': [Errno 2] No such file or directory\n",
            "python3: can't open file 'CNQ_model_split_by_patient.py': [Errno 2] No such file or directory\n",
            "python3: can't open file 'CNQ_model_split_by_patient.py': [Errno 2] No such file or directory\n",
            "python3: can't open file 'CNQ_model_split_by_patient.py': [Errno 2] No such file or directory\n",
            "python3: can't open file 'CNQ_model_split_by_patient.py': [Errno 2] No such file or directory\n",
            "python3: can't open file 'CNQ_model_split_by_patient.py': [Errno 2] No such file or directory\n",
            "python3: can't open file 'CNQ_model_split_by_patient.py': [Errno 2] No such file or directory\n",
            "python3: can't open file 'CNQ_model_split_by_patient.py': [Errno 2] No such file or directory\n",
            "python3: can't open file 'CNQ_model_split_by_patient.py': [Errno 2] No such file or directory\n",
            "python3: can't open file 'CNQ_model_split_by_patient.py': [Errno 2] No such file or directory\n",
            "python3: can't open file 'CNQ_model_split_by_patient.py': [Errno 2] No such file or directory\n",
            "python3: can't open file 'CNQ_model_split_by_patient.py': [Errno 2] No such file or directory\n"
          ]
        }
      ]
    },
    {
      "cell_type": "code",
      "metadata": {
        "id": "GqAiNylF_qVy",
        "colab": {
          "base_uri": "https://localhost:8080/"
        },
        "outputId": "9a5daed0-130c-4953-89b1-0e4d94281a13"
      },
      "source": [
        "!/content/mi_detection/train_pairwise.sh"
      ],
      "execution_count": null,
      "outputs": [
        {
          "output_type": "stream",
          "name": "stdout",
          "text": [
            "python3: can't open file 'CNQ_model_split_by_patient.py': [Errno 2] No such file or directory\n",
            "python3: can't open file 'CNQ_model_split_by_patient.py': [Errno 2] No such file or directory\n",
            "python3: can't open file 'CNQ_model_split_by_patient.py': [Errno 2] No such file or directory\n",
            "python3: can't open file 'CNQ_model_split_by_patient.py': [Errno 2] No such file or directory\n",
            "python3: can't open file 'CNQ_model_split_by_patient.py': [Errno 2] No such file or directory\n",
            "python3: can't open file 'CNQ_model_split_by_patient.py': [Errno 2] No such file or directory\n",
            "python3: can't open file 'CNQ_model_split_by_patient.py': [Errno 2] No such file or directory\n",
            "python3: can't open file 'CNQ_model_split_by_patient.py': [Errno 2] No such file or directory\n",
            "python3: can't open file 'CNQ_model_split_by_patient.py': [Errno 2] No such file or directory\n",
            "python3: can't open file 'CNQ_model_split_by_patient.py': [Errno 2] No such file or directory\n",
            "python3: can't open file 'CNQ_model_split_by_patient.py': [Errno 2] No such file or directory\n",
            "python3: can't open file 'CNQ_model_split_by_patient.py': [Errno 2] No such file or directory\n",
            "python3: can't open file 'CNQ_model_split_by_patient.py': [Errno 2] No such file or directory\n",
            "python3: can't open file 'CNQ_model_split_by_patient.py': [Errno 2] No such file or directory\n",
            "python3: can't open file 'CNQ_model_split_by_patient.py': [Errno 2] No such file or directory\n",
            "python3: can't open file 'CNQ_model_split_by_patient.py': [Errno 2] No such file or directory\n",
            "python3: can't open file 'CNQ_model_split_by_patient.py': [Errno 2] No such file or directory\n",
            "python3: can't open file 'CNQ_model_split_by_patient.py': [Errno 2] No such file or directory\n",
            "python3: can't open file 'CNQ_model_split_by_patient.py': [Errno 2] No such file or directory\n",
            "python3: can't open file 'CNQ_model_split_by_patient.py': [Errno 2] No such file or directory\n",
            "python3: can't open file 'CNQ_model_split_by_patient.py': [Errno 2] No such file or directory\n",
            "python3: can't open file 'CNQ_model_split_by_patient.py': [Errno 2] No such file or directory\n",
            "python3: can't open file 'CNQ_model_split_by_patient.py': [Errno 2] No such file or directory\n",
            "python3: can't open file 'CNQ_model_split_by_patient.py': [Errno 2] No such file or directory\n",
            "python3: can't open file 'CNQ_model_split_by_patient.py': [Errno 2] No such file or directory\n",
            "python3: can't open file 'CNQ_model_split_by_patient.py': [Errno 2] No such file or directory\n",
            "python3: can't open file 'CNQ_model_split_by_patient.py': [Errno 2] No such file or directory\n",
            "python3: can't open file 'CNQ_model_split_by_patient.py': [Errno 2] No such file or directory\n",
            "python3: can't open file 'CNQ_model_split_by_patient.py': [Errno 2] No such file or directory\n",
            "python3: can't open file 'CNQ_model_split_by_patient.py': [Errno 2] No such file or directory\n",
            "python3: can't open file 'CNQ_model_split_by_patient.py': [Errno 2] No such file or directory\n",
            "python3: can't open file 'CNQ_model_split_by_patient.py': [Errno 2] No such file or directory\n",
            "python3: can't open file 'CNQ_model_split_by_patient.py': [Errno 2] No such file or directory\n",
            "python3: can't open file 'CNQ_model_split_by_patient.py': [Errno 2] No such file or directory\n",
            "python3: can't open file 'CNQ_model_split_by_patient.py': [Errno 2] No such file or directory\n",
            "python3: can't open file 'CNQ_model_split_by_patient.py': [Errno 2] No such file or directory\n",
            "python3: can't open file 'CNQ_model_split_by_patient.py': [Errno 2] No such file or directory\n",
            "python3: can't open file 'CNQ_model_split_by_patient.py': [Errno 2] No such file or directory\n",
            "python3: can't open file 'CNQ_model_split_by_patient.py': [Errno 2] No such file or directory\n",
            "python3: can't open file 'CNQ_model_split_by_patient.py': [Errno 2] No such file or directory\n",
            "python3: can't open file 'CNQ_model_split_by_patient.py': [Errno 2] No such file or directory\n",
            "python3: can't open file 'CNQ_model_split_by_patient.py': [Errno 2] No such file or directory\n",
            "python3: can't open file 'CNQ_model_split_by_patient.py': [Errno 2] No such file or directory\n",
            "python3: can't open file 'CNQ_model_split_by_patient.py': [Errno 2] No such file or directory\n",
            "python3: can't open file 'CNQ_model_split_by_patient.py': [Errno 2] No such file or directory\n",
            "python3: can't open file 'CNQ_model_split_by_patient.py': [Errno 2] No such file or directory\n",
            "python3: can't open file 'CNQ_model_split_by_patient.py': [Errno 2] No such file or directory\n",
            "python3: can't open file 'CNQ_model_split_by_patient.py': [Errno 2] No such file or directory\n",
            "python3: can't open file 'CNQ_model_split_by_patient.py': [Errno 2] No such file or directory\n",
            "python3: can't open file 'CNQ_model_split_by_patient.py': [Errno 2] No such file or directory\n",
            "python3: can't open file 'CNQ_model_split_by_patient.py': [Errno 2] No such file or directory\n",
            "python3: can't open file 'CNQ_model_split_by_patient.py': [Errno 2] No such file or directory\n",
            "python3: can't open file 'CNQ_model_split_by_patient.py': [Errno 2] No such file or directory\n",
            "python3: can't open file 'CNQ_model_split_by_patient.py': [Errno 2] No such file or directory\n",
            "python3: can't open file 'CNQ_model_split_by_patient.py': [Errno 2] No such file or directory\n",
            "python3: can't open file 'CNQ_model_split_by_patient.py': [Errno 2] No such file or directory\n",
            "python3: can't open file 'CNQ_model_split_by_patient.py': [Errno 2] No such file or directory\n",
            "python3: can't open file 'CNQ_model_split_by_patient.py': [Errno 2] No such file or directory\n",
            "python3: can't open file 'CNQ_model_split_by_patient.py': [Errno 2] No such file or directory\n",
            "python3: can't open file 'CNQ_model_split_by_patient.py': [Errno 2] No such file or directory\n",
            "python3: can't open file 'CNQ_model_split_by_patient.py': [Errno 2] No such file or directory\n",
            "python3: can't open file 'CNQ_model_split_by_patient.py': [Errno 2] No such file or directory\n",
            "python3: can't open file 'CNQ_model_split_by_patient.py': [Errno 2] No such file or directory\n",
            "python3: can't open file 'CNQ_model_split_by_patient.py': [Errno 2] No such file or directory\n",
            "python3: can't open file 'CNQ_model_split_by_patient.py': [Errno 2] No such file or directory\n",
            "python3: can't open file 'CNQ_model_split_by_patient.py': [Errno 2] No such file or directory\n",
            "python3: can't open file 'CNQ_model_split_by_patient.py': [Errno 2] No such file or directory\n",
            "python3: can't open file 'CNQ_model_split_by_patient.py': [Errno 2] No such file or directory\n",
            "python3: can't open file 'CNQ_model_split_by_patient.py': [Errno 2] No such file or directory\n",
            "python3: can't open file 'CNQ_model_split_by_patient.py': [Errno 2] No such file or directory\n",
            "python3: can't open file 'CNQ_model_split_by_patient.py': [Errno 2] No such file or directory\n",
            "python3: can't open file 'CNQ_model_split_by_patient.py': [Errno 2] No such file or directory\n",
            "python3: can't open file 'CNQ_model_split_by_patient.py': [Errno 2] No such file or directory\n",
            "python3: can't open file 'CNQ_model_split_by_patient.py': [Errno 2] No such file or directory\n",
            "python3: can't open file 'CNQ_model_split_by_patient.py': [Errno 2] No such file or directory\n",
            "python3: can't open file 'CNQ_model_split_by_patient.py': [Errno 2] No such file or directory\n",
            "python3: can't open file 'CNQ_model_split_by_patient.py': [Errno 2] No such file or directory\n",
            "python3: can't open file 'CNQ_model_split_by_patient.py': [Errno 2] No such file or directory\n",
            "python3: can't open file 'CNQ_model_split_by_patient.py': [Errno 2] No such file or directory\n",
            "python3: can't open file 'CNQ_model_split_by_patient.py': [Errno 2] No such file or directory\n",
            "python3: can't open file 'CNQ_model_split_by_patient.py': [Errno 2] No such file or directory\n",
            "python3: can't open file 'CNQ_model_split_by_patient.py': [Errno 2] No such file or directory\n",
            "python3: can't open file 'CNQ_model_split_by_patient.py': [Errno 2] No such file or directory\n",
            "python3: can't open file 'CNQ_model_split_by_patient.py': [Errno 2] No such file or directory\n",
            "python3: can't open file 'CNQ_model_split_by_patient.py': [Errno 2] No such file or directory\n",
            "python3: can't open file 'CNQ_model_split_by_patient.py': [Errno 2] No such file or directory\n",
            "python3: can't open file 'CNQ_model_split_by_patient.py': [Errno 2] No such file or directory\n",
            "python3: can't open file 'CNQ_model_split_by_patient.py': [Errno 2] No such file or directory\n",
            "python3: can't open file 'CNQ_model_split_by_patient.py': [Errno 2] No such file or directory\n",
            "python3: can't open file 'CNQ_model_split_by_patient.py': [Errno 2] No such file or directory\n",
            "python3: can't open file 'CNQ_model_split_by_patient.py': [Errno 2] No such file or directory\n",
            "python3: can't open file 'CNQ_model_split_by_patient.py': [Errno 2] No such file or directory\n",
            "python3: can't open file 'CNQ_model_split_by_patient.py': [Errno 2] No such file or directory\n",
            "python3: can't open file 'CNQ_model_split_by_patient.py': [Errno 2] No such file or directory\n",
            "python3: can't open file 'CNQ_model_split_by_patient.py': [Errno 2] No such file or directory\n",
            "python3: can't open file 'CNQ_model_split_by_patient.py': [Errno 2] No such file or directory\n",
            "python3: can't open file 'CNQ_model_split_by_patient.py': [Errno 2] No such file or directory\n",
            "python3: can't open file 'CNQ_model_split_by_patient.py': [Errno 2] No such file or directory\n",
            "python3: can't open file 'CNQ_model_split_by_patient.py': [Errno 2] No such file or directory\n",
            "python3: can't open file 'CNQ_model_split_by_patient.py': [Errno 2] No such file or directory\n",
            "python3: can't open file 'CNQ_model_split_by_patient.py': [Errno 2] No such file or directory\n",
            "python3: can't open file 'CNQ_model_split_by_patient.py': [Errno 2] No such file or directory\n",
            "python3: can't open file 'CNQ_model_split_by_patient.py': [Errno 2] No such file or directory\n",
            "python3: can't open file 'CNQ_model_split_by_patient.py': [Errno 2] No such file or directory\n",
            "python3: can't open file 'CNQ_model_split_by_patient.py': [Errno 2] No such file or directory\n",
            "python3: can't open file 'CNQ_model_split_by_patient.py': [Errno 2] No such file or directory\n",
            "python3: can't open file 'CNQ_model_split_by_patient.py': [Errno 2] No such file or directory\n",
            "python3: can't open file 'CNQ_model_split_by_patient.py': [Errno 2] No such file or directory\n",
            "python3: can't open file 'CNQ_model_split_by_patient.py': [Errno 2] No such file or directory\n",
            "python3: can't open file 'CNQ_model_split_by_patient.py': [Errno 2] No such file or directory\n",
            "python3: can't open file 'CNQ_model_split_by_patient.py': [Errno 2] No such file or directory\n",
            "python3: can't open file 'CNQ_model_split_by_patient.py': [Errno 2] No such file or directory\n",
            "python3: can't open file 'CNQ_model_split_by_patient.py': [Errno 2] No such file or directory\n",
            "python3: can't open file 'CNQ_model_split_by_patient.py': [Errno 2] No such file or directory\n",
            "python3: can't open file 'CNQ_model_split_by_patient.py': [Errno 2] No such file or directory\n",
            "python3: can't open file 'CNQ_model_split_by_patient.py': [Errno 2] No such file or directory\n",
            "python3: can't open file 'CNQ_model_split_by_patient.py': [Errno 2] No such file or directory\n",
            "python3: can't open file 'CNQ_model_split_by_patient.py': [Errno 2] No such file or directory\n",
            "python3: can't open file 'CNQ_model_split_by_patient.py': [Errno 2] No such file or directory\n",
            "python3: can't open file 'CNQ_model_split_by_patient.py': [Errno 2] No such file or directory\n",
            "python3: can't open file 'CNQ_model_split_by_patient.py': [Errno 2] No such file or directory\n",
            "python3: can't open file 'CNQ_model_split_by_patient.py': [Errno 2] No such file or directory\n",
            "python3: can't open file 'CNQ_model_split_by_patient.py': [Errno 2] No such file or directory\n",
            "python3: can't open file 'CNQ_model_split_by_patient.py': [Errno 2] No such file or directory\n",
            "python3: can't open file 'CNQ_model_split_by_patient.py': [Errno 2] No such file or directory\n",
            "python3: can't open file 'CNQ_model_split_by_patient.py': [Errno 2] No such file or directory\n",
            "python3: can't open file 'CNQ_model_split_by_patient.py': [Errno 2] No such file or directory\n",
            "python3: can't open file 'CNQ_model_split_by_patient.py': [Errno 2] No such file or directory\n",
            "python3: can't open file 'CNQ_model_split_by_patient.py': [Errno 2] No such file or directory\n",
            "python3: can't open file 'CNQ_model_split_by_patient.py': [Errno 2] No such file or directory\n",
            "python3: can't open file 'CNQ_model_split_by_patient.py': [Errno 2] No such file or directory\n",
            "python3: can't open file 'CNQ_model_split_by_patient.py': [Errno 2] No such file or directory\n",
            "python3: can't open file 'CNQ_model_split_by_patient.py': [Errno 2] No such file or directory\n",
            "python3: can't open file 'CNQ_model_split_by_patient.py': [Errno 2] No such file or directory\n",
            "python3: can't open file 'CNQ_model_split_by_patient.py': [Errno 2] No such file or directory\n",
            "python3: can't open file 'CNQ_model_split_by_patient.py': [Errno 2] No such file or directory\n",
            "python3: can't open file 'CNQ_model_split_by_patient.py': [Errno 2] No such file or directory\n",
            "python3: can't open file 'CNQ_model_split_by_patient.py': [Errno 2] No such file or directory\n",
            "python3: can't open file 'CNQ_model_split_by_patient.py': [Errno 2] No such file or directory\n",
            "python3: can't open file 'CNQ_model_split_by_patient.py': [Errno 2] No such file or directory\n",
            "python3: can't open file 'CNQ_model_split_by_patient.py': [Errno 2] No such file or directory\n",
            "python3: can't open file 'CNQ_model_split_by_patient.py': [Errno 2] No such file or directory\n",
            "python3: can't open file 'CNQ_model_split_by_patient.py': [Errno 2] No such file or directory\n",
            "python3: can't open file 'CNQ_model_split_by_patient.py': [Errno 2] No such file or directory\n",
            "python3: can't open file 'CNQ_model_split_by_patient.py': [Errno 2] No such file or directory\n",
            "python3: can't open file 'CNQ_model_split_by_patient.py': [Errno 2] No such file or directory\n",
            "python3: can't open file 'CNQ_model_split_by_patient.py': [Errno 2] No such file or directory\n",
            "python3: can't open file 'CNQ_model_split_by_patient.py': [Errno 2] No such file or directory\n",
            "python3: can't open file 'CNQ_model_split_by_patient.py': [Errno 2] No such file or directory\n",
            "python3: can't open file 'CNQ_model_split_by_patient.py': [Errno 2] No such file or directory\n",
            "python3: can't open file 'CNQ_model_split_by_patient.py': [Errno 2] No such file or directory\n",
            "python3: can't open file 'CNQ_model_split_by_patient.py': [Errno 2] No such file or directory\n",
            "python3: can't open file 'CNQ_model_split_by_patient.py': [Errno 2] No such file or directory\n",
            "python3: can't open file 'CNQ_model_split_by_patient.py': [Errno 2] No such file or directory\n",
            "python3: can't open file 'CNQ_model_split_by_patient.py': [Errno 2] No such file or directory\n",
            "python3: can't open file 'CNQ_model_split_by_patient.py': [Errno 2] No such file or directory\n",
            "python3: can't open file 'CNQ_model_split_by_patient.py': [Errno 2] No such file or directory\n",
            "python3: can't open file 'CNQ_model_split_by_patient.py': [Errno 2] No such file or directory\n",
            "python3: can't open file 'CNQ_model_split_by_patient.py': [Errno 2] No such file or directory\n",
            "python3: can't open file 'CNQ_model_split_by_patient.py': [Errno 2] No such file or directory\n",
            "python3: can't open file 'CNQ_model_split_by_patient.py': [Errno 2] No such file or directory\n",
            "python3: can't open file 'CNQ_model_split_by_patient.py': [Errno 2] No such file or directory\n",
            "python3: can't open file 'CNQ_model_split_by_patient.py': [Errno 2] No such file or directory\n",
            "python3: can't open file 'CNQ_model_split_by_patient.py': [Errno 2] No such file or directory\n",
            "python3: can't open file 'CNQ_model_split_by_patient.py': [Errno 2] No such file or directory\n",
            "python3: can't open file 'CNQ_model_split_by_patient.py': [Errno 2] No such file or directory\n",
            "python3: can't open file 'CNQ_model_split_by_patient.py': [Errno 2] No such file or directory\n",
            "python3: can't open file 'CNQ_model_split_by_patient.py': [Errno 2] No such file or directory\n",
            "python3: can't open file 'CNQ_model_split_by_patient.py': [Errno 2] No such file or directory\n",
            "python3: can't open file 'CNQ_model_split_by_patient.py': [Errno 2] No such file or directory\n",
            "python3: can't open file 'CNQ_model_split_by_patient.py': [Errno 2] No such file or directory\n",
            "python3: can't open file 'CNQ_model_split_by_patient.py': [Errno 2] No such file or directory\n",
            "python3: can't open file 'CNQ_model_split_by_patient.py': [Errno 2] No such file or directory\n",
            "python3: can't open file 'CNQ_model_split_by_patient.py': [Errno 2] No such file or directory\n",
            "python3: can't open file 'CNQ_model_split_by_patient.py': [Errno 2] No such file or directory\n",
            "python3: can't open file 'CNQ_model_split_by_patient.py': [Errno 2] No such file or directory\n",
            "python3: can't open file 'CNQ_model_split_by_patient.py': [Errno 2] No such file or directory\n",
            "python3: can't open file 'CNQ_model_split_by_patient.py': [Errno 2] No such file or directory\n",
            "python3: can't open file 'CNQ_model_split_by_patient.py': [Errno 2] No such file or directory\n",
            "python3: can't open file 'CNQ_model_split_by_patient.py': [Errno 2] No such file or directory\n",
            "python3: can't open file 'CNQ_model_split_by_patient.py': [Errno 2] No such file or directory\n",
            "python3: can't open file 'CNQ_model_split_by_patient.py': [Errno 2] No such file or directory\n",
            "python3: can't open file 'CNQ_model_split_by_patient.py': [Errno 2] No such file or directory\n",
            "python3: can't open file 'CNQ_model_split_by_patient.py': [Errno 2] No such file or directory\n",
            "python3: can't open file 'CNQ_model_split_by_patient.py': [Errno 2] No such file or directory\n",
            "python3: can't open file 'CNQ_model_split_by_patient.py': [Errno 2] No such file or directory\n",
            "python3: can't open file 'CNQ_model_split_by_patient.py': [Errno 2] No such file or directory\n",
            "python3: can't open file 'CNQ_model_split_by_patient.py': [Errno 2] No such file or directory\n",
            "python3: can't open file 'CNQ_model_split_by_patient.py': [Errno 2] No such file or directory\n",
            "python3: can't open file 'CNQ_model_split_by_patient.py': [Errno 2] No such file or directory\n",
            "python3: can't open file 'CNQ_model_split_by_patient.py': [Errno 2] No such file or directory\n",
            "python3: can't open file 'CNQ_model_split_by_patient.py': [Errno 2] No such file or directory\n",
            "python3: can't open file 'CNQ_model_split_by_patient.py': [Errno 2] No such file or directory\n",
            "python3: can't open file 'CNQ_model_split_by_patient.py': [Errno 2] No such file or directory\n",
            "python3: can't open file 'CNQ_model_split_by_patient.py': [Errno 2] No such file or directory\n",
            "python3: can't open file 'CNQ_model_split_by_patient.py': [Errno 2] No such file or directory\n",
            "python3: can't open file 'CNQ_model_split_by_patient.py': [Errno 2] No such file or directory\n",
            "python3: can't open file 'CNQ_model_split_by_patient.py': [Errno 2] No such file or directory\n",
            "python3: can't open file 'CNQ_model_split_by_patient.py': [Errno 2] No such file or directory\n",
            "python3: can't open file 'CNQ_model_split_by_patient.py': [Errno 2] No such file or directory\n",
            "python3: can't open file 'CNQ_model_split_by_patient.py': [Errno 2] No such file or directory\n",
            "python3: can't open file 'CNQ_model_split_by_patient.py': [Errno 2] No such file or directory\n",
            "python3: can't open file 'CNQ_model_split_by_patient.py': [Errno 2] No such file or directory\n",
            "python3: can't open file 'CNQ_model_split_by_patient.py': [Errno 2] No such file or directory\n",
            "python3: can't open file 'CNQ_model_split_by_patient.py': [Errno 2] No such file or directory\n",
            "python3: can't open file 'CNQ_model_split_by_patient.py': [Errno 2] No such file or directory\n",
            "python3: can't open file 'CNQ_model_split_by_patient.py': [Errno 2] No such file or directory\n",
            "python3: can't open file 'CNQ_model_split_by_patient.py': [Errno 2] No such file or directory\n",
            "python3: can't open file 'CNQ_model_split_by_patient.py': [Errno 2] No such file or directory\n",
            "python3: can't open file 'CNQ_model_split_by_patient.py': [Errno 2] No such file or directory\n"
          ]
        }
      ]
    },
    {
      "cell_type": "markdown",
      "metadata": {
        "id": "JnxFPUFQ_295"
      },
      "source": [
        "#liu_et_al"
      ]
    },
    {
      "cell_type": "code",
      "metadata": {
        "colab": {
          "base_uri": "https://localhost:8080/"
        },
        "id": "wTctIUPhpErX",
        "outputId": "b1187177-20a5-42b6-a43e-c697a396f11a"
      },
      "source": [
        "!/content/mi_detection/liu_et_al/liu_et_al.sh"
      ],
      "execution_count": null,
      "outputs": [
        {
          "output_type": "stream",
          "name": "stdout",
          "text": [
            "python3: can't open file 'liu_et_al.py': [Errno 2] No such file or directory\n",
            "python3: can't open file 'liu_et_al.py': [Errno 2] No such file or directory\n",
            "python3: can't open file 'liu_et_al.py': [Errno 2] No such file or directory\n",
            "python3: can't open file 'liu_et_al.py': [Errno 2] No such file or directory\n",
            "python3: can't open file 'liu_et_al.py': [Errno 2] No such file or directory\n",
            "python3: can't open file 'liu_et_al.py': [Errno 2] No such file or directory\n",
            "python3: can't open file 'liu_et_al.py': [Errno 2] No such file or directory\n",
            "python3: can't open file 'liu_et_al.py': [Errno 2] No such file or directory\n",
            "python3: can't open file 'liu_et_al.py': [Errno 2] No such file or directory\n",
            "python3: can't open file 'liu_et_al.py': [Errno 2] No such file or directory\n"
          ]
        }
      ]
    },
    {
      "cell_type": "code",
      "metadata": {
        "colab": {
          "base_uri": "https://localhost:8080/"
        },
        "id": "cFUPo_PPAa3K",
        "outputId": "54d2ee7f-9bb0-4a73-bd2d-95236aa3f17a"
      },
      "source": [
        "!python /content/mi_detection/liu_et_al/liu_et_al_patient.py"
      ],
      "execution_count": null,
      "outputs": [
        {
          "output_type": "stream",
          "name": "stdout",
          "text": [
            "Traceback (most recent call last):\n",
            "  File \"/content/mi_detection/liu_et_al/liu_et_al_patient.py\", line 36, in <module>\n",
            "    seed_num = sys.argv[1]\n",
            "IndexError: list index out of range\n"
          ]
        }
      ]
    },
    {
      "cell_type": "code",
      "metadata": {
        "id": "e_D-p3GhAa6v",
        "colab": {
          "base_uri": "https://localhost:8080/"
        },
        "outputId": "ddcf9af9-1cf3-4242-e47b-e6f02aca7063"
      },
      "source": [
        "!python /content/mi_detection/liu_et_al/liu_et_al_record.py"
      ],
      "execution_count": null,
      "outputs": [
        {
          "output_type": "stream",
          "name": "stdout",
          "text": [
            "33 ii\n",
            "Traceback (most recent call last):\n",
            "  File \"/content/mi_detection/liu_et_al/liu_et_al_record.py\", line 39, in <module>\n",
            "    with open('ptbdb_data/RECORDS') as fp:  \n",
            "FileNotFoundError: [Errno 2] No such file or directory: 'ptbdb_data/RECORDS'\n"
          ]
        }
      ]
    },
    {
      "cell_type": "markdown",
      "metadata": {
        "id": "mf-qtJA_AK7p"
      },
      "source": [
        "#staff_iii_dataset"
      ]
    },
    {
      "cell_type": "code",
      "metadata": {
        "id": "G1lu6-C0Aa-m",
        "colab": {
          "base_uri": "https://localhost:8080/"
        },
        "outputId": "16f389f2-9f9b-496c-84d5-03145952643f"
      },
      "source": [
        "!python /content/mi_detection/staff_iii_dataset/CNQ_model_staff.py"
      ],
      "execution_count": null,
      "outputs": [
        {
          "output_type": "stream",
          "name": "stdout",
          "text": [
            "v6\n",
            "Traceback (most recent call last):\n",
            "  File \"/content/mi_detection/staff_iii_dataset/CNQ_model_staff.py\", line 29, in <module>\n",
            "    with open('staff-iii-database-1.0.0/RECORDS') as fp:  \n",
            "FileNotFoundError: [Errno 2] No such file or directory: 'staff-iii-database-1.0.0/RECORDS'\n"
          ]
        }
      ]
    },
    {
      "cell_type": "markdown",
      "metadata": {
        "id": "997O7Yj7A0vh"
      },
      "source": [
        "#np_to_excel.ipynb"
      ]
    },
    {
      "cell_type": "code",
      "metadata": {
        "id": "PcaQktoaAzWa"
      },
      "source": [
        "import numpy as np\n",
        "import pandas as pd"
      ],
      "execution_count": null,
      "outputs": []
    },
    {
      "cell_type": "code",
      "metadata": {
        "id": "-ndmx3gfAbEN"
      },
      "source": [
        "# create np file\n",
        "a = np.zeros((10, 3))\n",
        "np.save(\"staff_seed_results.npy\", a)"
      ],
      "execution_count": null,
      "outputs": []
    },
    {
      "cell_type": "code",
      "metadata": {
        "id": "ZOHeOJPNAbHc",
        "colab": {
          "base_uri": "https://localhost:8080/",
          "height": 350
        },
        "outputId": "266919a4-a999-43d6-9c4f-e64a9e0e84a5"
      },
      "source": [
        "# convert np file to excel file\n",
        "filename = \"staff_seed_results.npy\"\n",
        "a = np.load(str(filename) + \".npy\")\n",
        "df = pd.DataFrame(a)\n",
        "filepath = str(filename) + '.xlsx'\n",
        "df.to_excel(filepath, index=False)"
      ],
      "execution_count": null,
      "outputs": [
        {
          "output_type": "error",
          "ename": "FileNotFoundError",
          "evalue": "ignored",
          "traceback": [
            "\u001b[0;31m---------------------------------------------------------------------------\u001b[0m",
            "\u001b[0;31mFileNotFoundError\u001b[0m                         Traceback (most recent call last)",
            "\u001b[0;32m<ipython-input-20-55af643f605d>\u001b[0m in \u001b[0;36m<module>\u001b[0;34m()\u001b[0m\n\u001b[1;32m      1\u001b[0m \u001b[0;31m# convert np file to excel file\u001b[0m\u001b[0;34m\u001b[0m\u001b[0;34m\u001b[0m\u001b[0;34m\u001b[0m\u001b[0m\n\u001b[1;32m      2\u001b[0m \u001b[0mfilename\u001b[0m \u001b[0;34m=\u001b[0m \u001b[0;34m\"staff_seed_results.npy\"\u001b[0m\u001b[0;34m\u001b[0m\u001b[0;34m\u001b[0m\u001b[0m\n\u001b[0;32m----> 3\u001b[0;31m \u001b[0ma\u001b[0m \u001b[0;34m=\u001b[0m \u001b[0mnp\u001b[0m\u001b[0;34m.\u001b[0m\u001b[0mload\u001b[0m\u001b[0;34m(\u001b[0m\u001b[0mstr\u001b[0m\u001b[0;34m(\u001b[0m\u001b[0mfilename\u001b[0m\u001b[0;34m)\u001b[0m \u001b[0;34m+\u001b[0m \u001b[0;34m\".npy\"\u001b[0m\u001b[0;34m)\u001b[0m\u001b[0;34m\u001b[0m\u001b[0;34m\u001b[0m\u001b[0m\n\u001b[0m\u001b[1;32m      4\u001b[0m \u001b[0mdf\u001b[0m \u001b[0;34m=\u001b[0m \u001b[0mpd\u001b[0m\u001b[0;34m.\u001b[0m\u001b[0mDataFrame\u001b[0m\u001b[0;34m(\u001b[0m\u001b[0ma\u001b[0m\u001b[0;34m)\u001b[0m\u001b[0;34m\u001b[0m\u001b[0;34m\u001b[0m\u001b[0m\n\u001b[1;32m      5\u001b[0m \u001b[0mfilepath\u001b[0m \u001b[0;34m=\u001b[0m \u001b[0mstr\u001b[0m\u001b[0;34m(\u001b[0m\u001b[0mfilename\u001b[0m\u001b[0;34m)\u001b[0m \u001b[0;34m+\u001b[0m \u001b[0;34m'.xlsx'\u001b[0m\u001b[0;34m\u001b[0m\u001b[0;34m\u001b[0m\u001b[0m\n",
            "\u001b[0;32m/usr/local/lib/python3.7/dist-packages/numpy/lib/npyio.py\u001b[0m in \u001b[0;36mload\u001b[0;34m(file, mmap_mode, allow_pickle, fix_imports, encoding)\u001b[0m\n\u001b[1;32m    414\u001b[0m             \u001b[0mown_fid\u001b[0m \u001b[0;34m=\u001b[0m \u001b[0;32mFalse\u001b[0m\u001b[0;34m\u001b[0m\u001b[0;34m\u001b[0m\u001b[0m\n\u001b[1;32m    415\u001b[0m         \u001b[0;32melse\u001b[0m\u001b[0;34m:\u001b[0m\u001b[0;34m\u001b[0m\u001b[0;34m\u001b[0m\u001b[0m\n\u001b[0;32m--> 416\u001b[0;31m             \u001b[0mfid\u001b[0m \u001b[0;34m=\u001b[0m \u001b[0mstack\u001b[0m\u001b[0;34m.\u001b[0m\u001b[0menter_context\u001b[0m\u001b[0;34m(\u001b[0m\u001b[0mopen\u001b[0m\u001b[0;34m(\u001b[0m\u001b[0mos_fspath\u001b[0m\u001b[0;34m(\u001b[0m\u001b[0mfile\u001b[0m\u001b[0;34m)\u001b[0m\u001b[0;34m,\u001b[0m \u001b[0;34m\"rb\"\u001b[0m\u001b[0;34m)\u001b[0m\u001b[0;34m)\u001b[0m\u001b[0;34m\u001b[0m\u001b[0;34m\u001b[0m\u001b[0m\n\u001b[0m\u001b[1;32m    417\u001b[0m             \u001b[0mown_fid\u001b[0m \u001b[0;34m=\u001b[0m \u001b[0;32mTrue\u001b[0m\u001b[0;34m\u001b[0m\u001b[0;34m\u001b[0m\u001b[0m\n\u001b[1;32m    418\u001b[0m \u001b[0;34m\u001b[0m\u001b[0m\n",
            "\u001b[0;31mFileNotFoundError\u001b[0m: [Errno 2] No such file or directory: 'staff_seed_results.npy.npy'"
          ]
        }
      ]
    },
    {
      "cell_type": "markdown",
      "metadata": {
        "id": "_FcCIC8zB94g"
      },
      "source": [
        "#staff_iii.ipynb\n"
      ]
    },
    {
      "cell_type": "code",
      "metadata": {
        "colab": {
          "base_uri": "https://localhost:8080/"
        },
        "id": "ksiH2jjQcv4z",
        "outputId": "83aad2cb-b234-4994-b704-864c3ed8a2db"
      },
      "source": [
        "!/content/mi_detection/staff_iii_dataset/staff_iii.ipynb"
      ],
      "execution_count": null,
      "outputs": [
        {
          "output_type": "stream",
          "name": "stdout",
          "text": [
            "/bin/bash: /content/mi_detection/staff_iii_dataset/staff_iii.ipynb: Permission denied\n"
          ]
        }
      ]
    },
    {
      "cell_type": "code",
      "metadata": {
        "id": "WjLuLKHOAKpE"
      },
      "source": [
        "from __future__ import print_function\n",
        "import numpy as np\n",
        "import torch\n",
        "import torch.nn as nn\n",
        "from torch.utils.data import Dataset\n",
        "from torch.utils.data import DataLoader\n",
        "import torch.nn.functional as F\n",
        "import os\n",
        "import matplotlib.pyplot as plt\n",
        "plt.switch_backend('agg')\n",
        "import wfdb\n",
        "import time\n",
        "import random\n",
        "from sklearn.preprocessing import minmax_scale\n",
        "import sys\n",
        "import pandas\n",
        "from torch.utils.tensorboard import SummaryWriter"
      ],
      "execution_count": null,
      "outputs": []
    },
    {
      "cell_type": "code",
      "metadata": {
        "id": "1HMef5aKAVST"
      },
      "source": [
        "class StaffIIIDataset(Dataset):\n",
        "    \n",
        "    def __init__(self, record_path, excel_path, channel, train=True, length=10000, transform=None):\n",
        "        \n",
        "        self.train = train\n",
        "        self.length = length\n",
        "        \n",
        "        with open(record_path) as fp:  \n",
        "            self.lines = fp.readlines()\n",
        "                    \n",
        "        if self.train:\n",
        "            self.lines = self.lines[:int(0.7*len(self.lines))]\n",
        "        else:\n",
        "            self.lines = self.lines[int(0.7*len(self.lines)):int(0.8*len(self.lines))]\n",
        "            \n",
        "        self.df = pandas.read_excel(excel_path)\n",
        "        self.labels = self.df[u'Unnamed: 28'][9:].as_matrix()\n",
        "        \n",
        "        # channel\n",
        "        self.channel = channel\n",
        "        \n",
        "    def __getitem__(self, index):\n",
        "        \n",
        "        # extract patient_id from file_name\n",
        "        patient_id = int(self.lines[index][5:8])\n",
        "        \n",
        "        if patient_id == 28 or patient_id == 67:\n",
        "            # train\n",
        "            index = 0\n",
        "            patient_id = int(self.lines[index][5:8])\n",
        "        if  patient_id == 78 or patient_id == 103:\n",
        "            # val\n",
        "            index = 105\n",
        "            patient_id = int(self.lines[index][5:8])\n",
        "        \n",
        "        file_name = self.lines[index][:-1]\n",
        "        data, _ = wfdb.rdsamp(\"staff-iii-database-1.0.0/\" + str(file_name))\n",
        "        data = np.array(data) # (300000, 9)\n",
        "        data = data[:self.length, :]\n",
        "        \n",
        "        # extract relevant channels\n",
        "        data = data[:, self.channel]\n",
        "        \n",
        "        if self.labels[patient_id] != 'no':\n",
        "            y = 0.9\n",
        "        else:\n",
        "            y = 0.1\n",
        "        \n",
        "        return data, y\n",
        "    \n",
        "    def __len__(self):\n",
        "        \n",
        "        if self.train:\n",
        "            return int(0.7*519)\n",
        "        else:\n",
        "            return int(0.1*519)"
      ],
      "execution_count": null,
      "outputs": []
    },
    {
      "cell_type": "code",
      "metadata": {
        "id": "6rLGXQZ5CK3p"
      },
      "source": [
        "batch_size = 100\n",
        "\n",
        "train_dataset = StaffIIIDataset(record_path='staff-iii-database-1.0.0/RECORDS',\n",
        "                                excel_path='staff-iii-database-1.0.0/STAFF-III-Database-Annotations.xlsx',\n",
        "                                channel=0)\n",
        "\n",
        "train_loader = DataLoader(dataset=train_dataset,\n",
        "                          batch_size=batch_size,\n",
        "                          num_workers=1)\n",
        "\n",
        "val_dataset = StaffIIIDataset(record_path='staff-iii-database-1.0.0/RECORDS',\n",
        "                                excel_path='staff-iii-database-1.0.0/STAFF-III-Database-Annotations.xlsx',\n",
        "                                channel=0,\n",
        "                                train=False)\n",
        "\n",
        "val_loader = DataLoader(dataset=val_dataset,\n",
        "                        batch_size=batch_size,\n",
        "                        num_workers=1)"
      ],
      "execution_count": null,
      "outputs": []
    },
    {
      "cell_type": "code",
      "metadata": {
        "id": "mNnov3bnCVWh"
      },
      "source": [
        ""
      ],
      "execution_count": null,
      "outputs": []
    },
    {
      "cell_type": "markdown",
      "metadata": {
        "id": "1jXgy1is9ZXJ"
      },
      "source": [
        "split_by_patient.ipynb  Empieza"
      ]
    },
    {
      "cell_type": "code",
      "metadata": {
        "id": "38UfAmnd6jkn"
      },
      "source": [
        "from __future__ import print_function\n",
        "import numpy as np\n",
        "import torch\n",
        "import torch.nn as nn\n",
        "import torch.nn.functional as F\n",
        "import os\n",
        "import matplotlib.pyplot as plt\n",
        "plt.switch_backend('agg')\n",
        "import wfdb\n",
        "import time\n",
        "import random\n",
        "from sklearn.preprocessing import minmax_scale\n",
        "import sys"
      ],
      "execution_count": null,
      "outputs": []
    },
    {
      "cell_type": "code",
      "metadata": {
        "id": "rsFgYSQI7W8S"
      },
      "source": [
        "# channel_1 = sys.argv[1]\n",
        "# channel_2 = sys.argv[2]\n",
        "channel_1 = 'i'\n",
        "channel_2 = 'ii'\n",
        "seed_num = 37\n",
        "\n",
        "print(seed_num, channel_1, channel_2)"
      ],
      "execution_count": null,
      "outputs": []
    },
    {
      "cell_type": "code",
      "metadata": {
        "id": "gDYx27nU7eSQ"
      },
      "source": [
        "with open('/content/mi_detection/ptbdb_data/RECORDS') as fp:  \n",
        "    lines = fp.readlines()"
      ],
      "execution_count": null,
      "outputs": []
    },
    {
      "cell_type": "code",
      "metadata": {
        "id": "AdiWVmQ89eAQ"
      },
      "source": [
        "len(lines), lines[:5]"
      ],
      "execution_count": null,
      "outputs": []
    },
    {
      "cell_type": "code",
      "metadata": {
        "id": "oyk-pV6p9lpP"
      },
      "source": [
        "files_unhealthy, files_healthy, result = [], [], []\n",
        "\n",
        "for file_ in lines:\n",
        "    file_path = \"/content/mi_detection/ptbdb_data/\" + file_[:-1] + \".hea\"\n",
        "    \n",
        "    # read header to determine class\n",
        "    if 'Myocardial infarction' in open(file_path).read():\n",
        "        files_unhealthy.append(file_)\n",
        "        result.append(0)\n",
        "        \n",
        "    if 'Healthy control' in open(file_path).read():\n",
        "        files_healthy.append(file_)\n",
        "        result.append(1)"
      ],
      "execution_count": null,
      "outputs": []
    },
    {
      "cell_type": "code",
      "metadata": {
        "id": "bHLJohNf9l2U"
      },
      "source": [
        "len(files_unhealthy), len(files_healthy)"
      ],
      "execution_count": null,
      "outputs": []
    },
    {
      "cell_type": "code",
      "metadata": {
        "id": "R9SjPMO99l8F"
      },
      "source": [
        "files_unhealthy[0]"
      ],
      "execution_count": null,
      "outputs": []
    },
    {
      "cell_type": "markdown",
      "metadata": {
        "id": "6uaUtr4w912l"
      },
      "source": [
        "IDEALLY, SEED SHOULD BE FLAG AND SHOULD SEE TENSORBOARDS FOR 10 SEEDS"
      ]
    },
    {
      "cell_type": "code",
      "metadata": {
        "id": "X3quYaox9mBg"
      },
      "source": [
        "# check if there are patients that have both healthy and unhealthy recordings\n",
        "\n",
        "for idx, file_ in enumerate(lines):\n",
        "    print(file_[:-1], result[idx])"
      ],
      "execution_count": null,
      "outputs": []
    },
    {
      "cell_type": "code",
      "metadata": {
        "id": "Jd4nogco9mHA"
      },
      "source": [
        "# get list of patient_ids, split this, then populate unhealthy/healthy according to this split\n",
        "\n",
        "# num_patients = 294\n",
        "patient_ids = np.arange(294) + 1\n",
        "# NO SINCE THERE ARE GAPS, e.g. 132, 134\n",
        "\n",
        "# shuffle\n",
        "np.random.seed(int(seed_num))\n",
        "np.random.shuffle(patient_ids)\n",
        "\n",
        "# (healthy / unhealthy) = (80 / 368)\n",
        "# should do 80% train: (64 / 295) \n",
        "\n",
        "\n",
        "\n",
        "# WANT SPLIT BY PATIENT, AND EVEN HEALTHY/UNHEALTHY"
      ],
      "execution_count": null,
      "outputs": []
    },
    {
      "cell_type": "code",
      "metadata": {
        "id": "Ft_WkjEl9mMb"
      },
      "source": [
        "patient_ids"
      ],
      "execution_count": null,
      "outputs": []
    },
    {
      "cell_type": "code",
      "metadata": {
        "id": "toQBafBI9mRN"
      },
      "source": [
        "# split files as usual, then move overlapping patients to train. try a bunch of seeds.\n",
        "\n",
        "# load real data (ptbdb)\n",
        "with open('/content/mi_detection/ptbdb_data/RECORDS') as fp:  \n",
        "    lines = fp.readlines()\n",
        "\n",
        "files_unhealthy, files_healthy = [], []\n",
        "\n",
        "for file in lines:\n",
        "    file_path = \"/content/mi_detection/ptbdb_data/\" + file[:-1] + \".hea\"\n",
        "    \n",
        "    # read header to determine class\n",
        "    if 'Myocardial infarction' in open(file_path).read():\n",
        "        files_unhealthy.append(file)\n",
        "        \n",
        "    if 'Healthy control' in open(file_path).read():\n",
        "        files_healthy.append(file)\n",
        "\n",
        "# shuffle data (cross-validation)\n",
        "np.random.seed(int(seed_num))\n",
        "np.random.shuffle(files_unhealthy)\n",
        "np.random.shuffle(files_healthy)\n",
        "\n",
        "healthy_train = files_healthy[:int(0.8*len(files_healthy))]\n",
        "healthy_val = files_healthy[int(0.8*len(files_healthy)):]\n",
        "unhealthy_train = files_unhealthy[:int(0.8*len(files_unhealthy))]\n",
        "unhealthy_val = files_unhealthy[int(0.8*len(files_unhealthy)):]"
      ],
      "execution_count": null,
      "outputs": []
    },
    {
      "cell_type": "code",
      "metadata": {
        "id": "iMubMwLl9mWt"
      },
      "source": [
        "def intersection(lst1, lst2): \n",
        "    return list(set(lst1) & set(lst2)) "
      ],
      "execution_count": null,
      "outputs": []
    },
    {
      "cell_type": "code",
      "metadata": {
        "id": "ITLDiVXX-_2i"
      },
      "source": [
        "patient_ids_unhealthy_train = [element[:10] for element in unhealthy_train]\n",
        "patient_ids_unhealthy_val = [element[:10] for element in unhealthy_val]\n",
        "patient_ids_healthy_train = [element[:10] for element in healthy_train]\n",
        "patient_ids_healthy_val = [element[:10] for element in healthy_val]\n",
        "\n",
        "intersection_unhealthy = intersection(patient_ids_unhealthy_train, patient_ids_unhealthy_val)\n",
        "intersection_healthy = intersection(patient_ids_healthy_train, patient_ids_healthy_val)\n",
        "\n",
        "print(intersection_unhealthy)\n",
        "print()\n",
        "print(intersection_healthy)"
      ],
      "execution_count": null,
      "outputs": []
    },
    {
      "cell_type": "code",
      "metadata": {
        "id": "MTZBUSE1-_5j"
      },
      "source": [
        "# unhealthy\n",
        "move_to_train = intersection_unhealthy[:int(0.5*len(intersection_unhealthy))]\n",
        "move_to_val = intersection_unhealthy[int(0.5*len(intersection_unhealthy)):]\n",
        "\n",
        "for patient_id in move_to_train:\n",
        "    \n",
        "    in_val = []\n",
        "    \n",
        "    # find and remove all files in val\n",
        "    for file_ in unhealthy_val:\n",
        "        if file_[:10] == patient_id:\n",
        "            in_val.append(file_)\n",
        "            unhealthy_val.remove(file_)\n",
        "            \n",
        "    # add to train\n",
        "    for file_ in in_val:\n",
        "        unhealthy_train.append(file_)\n",
        "       \n",
        "    \n",
        "for patient_id in move_to_val:\n",
        "    \n",
        "    in_train = []\n",
        "    \n",
        "    # find and remove all files in val\n",
        "    for file_ in unhealthy_train:\n",
        "        if file_[:10] == patient_id:\n",
        "            in_train.append(file_)\n",
        "            unhealthy_train.remove(file_)\n",
        "            \n",
        "    # add to train\n",
        "    for file_ in in_train:\n",
        "        unhealthy_val.append(file_)\n",
        "    \n",
        "    \n",
        "# healthy\n",
        "move_to_train = intersection_healthy[:int(0.5*len(intersection_healthy))]\n",
        "move_to_val = intersection_healthy[int(0.5*len(intersection_healthy)):]\n",
        "\n",
        "for patient_id in move_to_train:\n",
        "    \n",
        "    in_val = []\n",
        "    \n",
        "    # find and remove all files in val\n",
        "    for file_ in healthy_val:\n",
        "        if file_[:10] == patient_id:\n",
        "            in_val.append(file_)\n",
        "            healthy_val.remove(file_)\n",
        "            \n",
        "    # add to train\n",
        "    for file_ in in_val:\n",
        "        healthy_train.append(file_)\n",
        "        \n",
        "\n",
        "for patient_id in move_to_val:\n",
        "    \n",
        "    in_train = []\n",
        "    \n",
        "    # find and remove all files in val\n",
        "    for file_ in healthy_train:\n",
        "        if file_[:10] == patient_id:\n",
        "            in_train.append(file_)\n",
        "            healthy_train.remove(file_)\n",
        "            \n",
        "    # add to train\n",
        "    for file_ in in_train:\n",
        "        healthy_val.append(file_)\n",
        "    "
      ],
      "execution_count": null,
      "outputs": []
    },
    {
      "cell_type": "code",
      "metadata": {
        "id": "RkwYJyqq-_-i"
      },
      "source": [
        "patient_ids_unhealthy_train = [element[:10] for element in unhealthy_train]\n",
        "patient_ids_unhealthy_val = [element[:10] for element in unhealthy_val]\n",
        "patient_ids_healthy_train = [element[:10] for element in healthy_train]\n",
        "patient_ids_healthy_val = [element[:10] for element in healthy_val]\n",
        "\n",
        "intersection_unhealthy = intersection(patient_ids_unhealthy_train, patient_ids_unhealthy_val)\n",
        "intersection_healthy = intersection(patient_ids_healthy_train, patient_ids_healthy_val)\n",
        "\n",
        "print(intersection_unhealthy)\n",
        "print()\n",
        "print(intersection_healthy)"
      ],
      "execution_count": null,
      "outputs": []
    },
    {
      "cell_type": "code",
      "metadata": {
        "id": "3dh7Ff3I_ABd"
      },
      "source": [
        "unhealthy_train[0]"
      ],
      "execution_count": null,
      "outputs": []
    },
    {
      "cell_type": "markdown",
      "metadata": {
        "id": "lPuV929P_eWq"
      },
      "source": [
        "# visualizing_staff_data.ipynb Empieza"
      ]
    },
    {
      "cell_type": "code",
      "metadata": {
        "id": "Tswt4Moi_AEM"
      },
      "source": [
        "from __future__ import print_function\n",
        "import numpy as np\n",
        "import torch\n",
        "import torch.nn as nn\n",
        "import torch.nn.functional as F\n",
        "import os\n",
        "import matplotlib.pyplot as plt\n",
        "plt.switch_backend('agg')\n",
        "import wfdb\n",
        "import time\n",
        "import random\n",
        "from sklearn.preprocessing import minmax_scale\n",
        "import sys\n",
        "import pandas\n",
        "from torch.utils.tensorboard import SummaryWriter"
      ],
      "execution_count": null,
      "outputs": []
    },
    {
      "cell_type": "code",
      "metadata": {
        "id": "6qaDwlmQ_AG5"
      },
      "source": [
        "# load real data (ptbdb)\n",
        "# with open('ptbdb_data/RECORDS') as fp:  \n",
        "#     lines = fp.readlines()\n",
        "with open('staff-iii-database-1.0.0/RECORDS') as fp:  \n",
        "    lines = fp.readlines()\n",
        "    \n",
        "lines = lines[:int(0.8*len(lines))]"
      ],
      "execution_count": null,
      "outputs": []
    },
    {
      "cell_type": "code",
      "metadata": {
        "id": "8xPPw5la_AM9"
      },
      "source": [
        ""
      ],
      "execution_count": null,
      "outputs": []
    },
    {
      "cell_type": "code",
      "metadata": {
        "id": "uBbZfaik_AQp"
      },
      "source": [
        ""
      ],
      "execution_count": null,
      "outputs": []
    },
    {
      "cell_type": "code",
      "metadata": {
        "id": "05j11dNRhHEs"
      },
      "source": [
        "!/datalab/run.sh\n"
      ],
      "execution_count": null,
      "outputs": []
    },
    {
      "cell_type": "code",
      "metadata": {
        "id": "h1MKfx0pDVRn"
      },
      "source": [
        "from __future__ import print_function\n",
        "import numpy as np\n",
        "import torch\n",
        "import torch.nn as nn\n",
        "import torch.nn.functional as F\n",
        "import os\n",
        "import matplotlib.pyplot as plt\n",
        "plt.switch_backend('agg')\n",
        "import wfdb\n",
        "import time\n",
        "import random\n",
        "from sklearn.preprocessing import minmax_scale\n",
        "import sys"
      ],
      "execution_count": null,
      "outputs": []
    },
    {
      "cell_type": "code",
      "metadata": {
        "colab": {
          "base_uri": "https://localhost:8080/"
        },
        "id": "uqgt-8DaDRXo",
        "outputId": "15638659-cfa3-4800-cc4a-a6b64da69360"
      },
      "source": [
        "channel_1 = 3\n",
        "channel_2 = 5\n",
        "seed_num = 37\n",
        "\n",
        "print(seed_num, channel_1, channel_2)"
      ],
      "execution_count": null,
      "outputs": [
        {
          "output_type": "stream",
          "name": "stdout",
          "text": [
            "37 3 5\n"
          ]
        }
      ]
    },
    {
      "cell_type": "code",
      "metadata": {
        "colab": {
          "base_uri": "https://localhost:8080/"
        },
        "id": "DYLG2PaXjqrc",
        "outputId": "a9c4ae69-06f7-4ef1-c9f2-b9c5fd0dd4a4"
      },
      "source": [
        "!python /content/mi_detection/CNQ_model_split_by_patient.py 123 2 2 5"
      ],
      "execution_count": null,
      "outputs": [
        {
          "output_type": "stream",
          "name": "stdout",
          "text": [
            "123 2 2 5\n",
            "Traceback (most recent call last):\n",
            "  File \"/content/mi_detection/CNQ_model_split_by_patient.py\", line 28, in <module>\n",
            "    with open('ptbdb_data/RECORDS') as fp:  \n",
            "FileNotFoundError: [Errno 2] No such file or directory: 'ptbdb_data/RECORDS'\n"
          ]
        }
      ]
    },
    {
      "cell_type": "code",
      "metadata": {
        "colab": {
          "base_uri": "https://localhost:8080/"
        },
        "id": "9yCOc6b_giTD",
        "outputId": "9d88eafc-8724-4bc6-a391-0fb4c51a1237"
      },
      "source": [
        "!python /content/mi_detection/split_by_patient.ipynb"
      ],
      "execution_count": null,
      "outputs": [
        {
          "output_type": "stream",
          "name": "stdout",
          "text": [
            "Traceback (most recent call last):\n",
            "  File \"/content/mi_detection/split_by_patient.ipynb\", line 86, in <module>\n",
            "    \"scrolled\": true\n",
            "NameError: name 'true' is not defined\n"
          ]
        }
      ]
    }
  ]
}